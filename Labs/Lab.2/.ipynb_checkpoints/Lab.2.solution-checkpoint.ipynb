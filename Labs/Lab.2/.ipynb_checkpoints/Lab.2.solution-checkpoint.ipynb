{
 "cells": [
  {
   "cell_type": "markdown",
   "metadata": {},
   "source": [
    "## Lab 2- Tic Tac Toe\n",
    "\n",
    "In this lab your will build a n x n Tic Tac Toe game. As you do the exercises, make sure your solutions work for any size Tic Tac Toe game. "
   ]
  },
  {
   "cell_type": "markdown",
   "metadata": {},
   "source": [
    "*Exercise 1:* Write a function that creates an n by n matrix (of list of lists) which will represent the state of a Tie Tac Toe game. Let 0, 1, and 2 represent empty, \"X\", and \"O\", respectively.\n"
   ]
  },
  {
   "cell_type": "code",
   "execution_count": 1,
   "metadata": {},
   "outputs": [],
   "source": [
    "# Write you solution here\n",
    "\n",
    "player1 = 1\n",
    "player2 = 2\n",
    "empty = 0\n",
    "\n",
    "def gameboard(n):\n",
    "    matrix = [[empty] * n for i in range(n)]\n",
    "    for row in matrix:\n",
    "        print(row)\n",
    "    return\n",
    "        "
   ]
  },
  {
   "cell_type": "code",
   "execution_count": 2,
   "metadata": {},
   "outputs": [
    {
     "name": "stdout",
     "output_type": "stream",
     "text": [
      "[0, 0, 0]\n",
      "[0, 0, 0]\n",
      "[0, 0, 0]\n"
     ]
    }
   ],
   "source": [
    "# Test your solution here\n",
    "\n",
    "gameboard(3)\n"
   ]
  },
  {
   "cell_type": "markdown",
   "metadata": {},
   "source": [
    "*Exercise 2:* Write a function that takes 2 integers `n` and `m` as input and draws a `n` by `m` game board. For example the following is a 3x3 board:\n",
    "```\n",
    "   --- --- --- \n",
    "  |   |   |   | \n",
    "   --- --- ---  \n",
    "  |   |   |   | \n",
    "   --- --- ---  \n",
    "  |   |   |   | \n",
    "   --- --- --- \n",
    "   ```"
   ]
  },
  {
   "cell_type": "code",
   "execution_count": 3,
   "metadata": {},
   "outputs": [],
   "source": [
    "# Write you solution here\n",
    "\n",
    "player1 = \"X\"\n",
    "player2 = \"O\"\n",
    "empty = 0\n",
    "\n",
    "def tictactoe_board(n,m):\n",
    "    for i in range(n):\n",
    "        print(\" \" + \"--- \" * m)\n",
    "        if i < n:\n",
    "            print(\"|   \" * m + \"|\")\n",
    "    print(\" \" + \"--- \" * m)\n",
    "    return"
   ]
  },
  {
   "cell_type": "code",
   "execution_count": 4,
   "metadata": {},
   "outputs": [
    {
     "name": "stdout",
     "output_type": "stream",
     "text": [
      " --- --- --- \n",
      "|   |   |   |\n",
      " --- --- --- \n",
      "|   |   |   |\n",
      " --- --- --- \n",
      "|   |   |   |\n",
      " --- --- --- \n"
     ]
    }
   ],
   "source": [
    "# Test your solution here\n",
    "\n",
    "tictactoe_board(3,3)"
   ]
  },
  {
   "cell_type": "markdown",
   "metadata": {},
   "source": [
    "*Exercise 3:* Modify exercise 2, so that it takes a matrix of the form from exercise 1 and draws a tic-tac-tie board with \"X\"s and \"O\"s.  "
   ]
  },
  {
   "cell_type": "code",
   "execution_count": 5,
   "metadata": {},
   "outputs": [],
   "source": [
    "# Write you solution here\n",
    "\n",
    "player1 = \"X\"\n",
    "player2 = \"O\"\n",
    "empty = 0\n",
    "\n",
    "def tictactoe_board2(n,m):\n",
    "\n",
    "    for i in range(n):\n",
    "        print(\" \" + \"--- \" * m)\n",
    "        if i < n:\n",
    "            print(\"|   \" * m + \"|\")\n",
    "    print(\" \" + \"--- \" * m)\n",
    "    return"
   ]
  },
  {
   "cell_type": "code",
   "execution_count": 6,
   "metadata": {},
   "outputs": [
    {
     "name": "stdout",
     "output_type": "stream",
     "text": [
      " --- --- --- \n",
      "|   |   |   |\n",
      " --- --- --- \n",
      "|   |   |   |\n",
      " --- --- --- \n",
      "|   |   |   |\n",
      " --- --- --- \n"
     ]
    }
   ],
   "source": [
    "# Test your solution here\n",
    "\n",
    "tictactoe_board2(3,3)\n"
   ]
  },
  {
   "cell_type": "markdown",
   "metadata": {},
   "source": [
    "*Exercise 4:* Write a function that takes a `n` by `n` matrix representing a tic-tac-toe game, and returns -1, 0, 1, or 2 indicating the game is incomplete, the game is a draw, player 1 has won, or player 2 has one, respectively. Here are some example inputs you can use to test your code:"
   ]
  },
  {
   "cell_type": "code",
   "execution_count": 7,
   "metadata": {},
   "outputs": [],
   "source": [
    "# Write you solution here\n",
    "\n",
    "def tictactoe_winner(board):\n",
    "    n = len(board)\n",
    "    \n",
    "    for i in range(n):\n",
    "        if all(cell == 1 for cell in board[i]):\n",
    "            return 1\n",
    "        if all(cell == 2 for cell in board[i]):\n",
    "            return 2\n",
    "        if all(board[j][i] == 1 for j in range(n)):\n",
    "            return 1\n",
    "        if all(board[j][i] == 2 for j in range(n)):\n",
    "            return 2\n",
    "    if all(board[i][i] == 1 for i in range(n)):\n",
    "        return 1\n",
    "    if all(board[i][i] == 2 for i in range(n)):\n",
    "        return 2\n",
    "    if all(board[i][n - 1 - i] == 1 for i in range(n)):\n",
    "        return 1\n",
    "    if all(board[i][n - 1 - i] == 2 for i in range(n)):\n",
    "        return 2\n",
    "    for i in board:\n",
    "        if 0 in i:\n",
    "            return -1\n",
    "    return 0"
   ]
  },
  {
   "cell_type": "code",
   "execution_count": 10,
   "metadata": {},
   "outputs": [
    {
     "name": "stdout",
     "output_type": "stream",
     "text": [
      "2\n",
      "1\n",
      "1\n",
      "-1\n",
      "-1\n",
      "2\n",
      "0\n"
     ]
    }
   ],
   "source": [
    "# Test your solution here\n",
    "print(tictactoe_winner(winner_is_2))\n",
    "print(tictactoe_winner(winner_is_1))\n",
    "print(tictactoe_winner(winner_is_also_1))\n",
    "print(tictactoe_winner(no_winner))\n",
    "print(tictactoe_winner(also_no_winner))\n",
    "print(tictactoe_winner(testwinner2))\n",
    "print(tictactoe_winner(testdraw))"
   ]
  },
  {
   "cell_type": "code",
   "execution_count": 9,
   "metadata": {},
   "outputs": [],
   "source": [
    "winner_is_2 = [[2, 2, 0],\n",
    "               [2, 1, 0],\n",
    "        \t   [2, 1, 1]]\n",
    "\n",
    "winner_is_1 = [[1, 2, 0],\n",
    "               [2, 1, 0],\n",
    "               [2, 1, 1]]\n",
    "\n",
    "winner_is_also_1 = [[0, 1, 0],\n",
    "                \t[2, 1, 0],\n",
    "                \t[2, 1, 1]]\n",
    "\n",
    "no_winner = [[1, 2, 0],\n",
    "    \t     [2, 1, 0],\n",
    "        \t [2, 1, 2]]\n",
    "\n",
    "also_no_winner = [[1, 2, 0],\n",
    "                  [2, 1, 0],\n",
    "\t              [2, 1, 0]]\n",
    "\n",
    "testwinner2 = [[1,0,2],\n",
    "              [2,2,1],\n",
    "              [2,0,1]]\n",
    "\n",
    "testdraw = [[1,2,1],\n",
    "            [2,1,2],\n",
    "            [2,1,2]]"
   ]
  },
  {
   "cell_type": "markdown",
   "metadata": {},
   "source": [
    "*Exercise 5:* Write a function that takes a game board, player number, and `(x,y)` coordinates and places \"X\" or \"O\" in the correct location of the game board. Make sure that you only allow filling previously empty locations. Return `True` or `False` to indicate successful placement of \"X\" or \"O\"."
   ]
  },
  {
   "cell_type": "code",
   "execution_count": 11,
   "metadata": {},
   "outputs": [],
   "source": [
    "# Write you solution here\n",
    "\n",
    "def taketurn(board,player,x,y):\n",
    "\n",
    "    if board[x][y] != 0:\n",
    "        return False\n",
    "    \n",
    "    symbol = \"X\" if player == 1 else \"O\"\n",
    "    board[x][y] = symbol\n",
    "    return True"
   ]
  },
  {
   "cell_type": "code",
   "execution_count": 12,
   "metadata": {},
   "outputs": [
    {
     "data": {
      "text/plain": [
       "True"
      ]
     },
     "execution_count": 12,
     "metadata": {},
     "output_type": "execute_result"
    }
   ],
   "source": [
    "# Test your solution here\n",
    "\n",
    "board1 = [[0,0,0],\n",
    "          [0,0,0],\n",
    "          [0,0,0]]\n",
    "\n",
    "taketurn(board1,2,0,2)"
   ]
  },
  {
   "cell_type": "code",
   "execution_count": 13,
   "metadata": {},
   "outputs": [
    {
     "data": {
      "text/plain": [
       "False"
      ]
     },
     "execution_count": 13,
     "metadata": {},
     "output_type": "execute_result"
    }
   ],
   "source": [
    "taketurn(board1,1,0,2)"
   ]
  },
  {
   "cell_type": "code",
   "execution_count": 14,
   "metadata": {},
   "outputs": [
    {
     "name": "stdout",
     "output_type": "stream",
     "text": [
      "[0, 0, 'O']\n",
      "[0, 'X', 0]\n",
      "[0, 0, 0]\n"
     ]
    }
   ],
   "source": [
    "taketurn(board1,1,1,1)\n",
    "\n",
    "for x in board1:\n",
    "    print(x)"
   ]
  },
  {
   "cell_type": "markdown",
   "metadata": {},
   "source": [
    "*Exercise 6:* Modify Exercise 3 to show column and row labels so that players can specify location using \"A2\" or \"C1\"."
   ]
  },
  {
   "cell_type": "code",
   "execution_count": 15,
   "metadata": {},
   "outputs": [],
   "source": [
    "# Write you solution here\n",
    "\n",
    "def tictactoe_board3(n,m):\n",
    "\n",
    "    newboard = [[0 for j in range(m)] for j in range(n)]\n",
    "    \n",
    "    print(\"    \", end=\"\")\n",
    "    for i in range(1,m+1):\n",
    "        print(f\" {i}  \", end=\"\")\n",
    "    print()\n",
    "    \n",
    "    for i in range(n):\n",
    "        print(\"    \" + \"--- \" * m)\n",
    "        row = chr(65 + i)\n",
    "        print(f\"{row}  \", end=\"\")\n",
    "        if i < n:\n",
    "            print(\"|   \" * m + \"|\")\n",
    "    print(\"    \" + \"--- \" * m)\n",
    "    return newboard"
   ]
  },
  {
   "cell_type": "code",
   "execution_count": 16,
   "metadata": {},
   "outputs": [
    {
     "name": "stdout",
     "output_type": "stream",
     "text": [
      "     1   2   3   4   5   6  \n",
      "    --- --- --- --- --- --- \n",
      "A  |   |   |   |   |   |   |\n",
      "    --- --- --- --- --- --- \n",
      "B  |   |   |   |   |   |   |\n",
      "    --- --- --- --- --- --- \n",
      "C  |   |   |   |   |   |   |\n",
      "    --- --- --- --- --- --- \n",
      "D  |   |   |   |   |   |   |\n",
      "    --- --- --- --- --- --- \n",
      "E  |   |   |   |   |   |   |\n",
      "    --- --- --- --- --- --- \n",
      "F  |   |   |   |   |   |   |\n",
      "    --- --- --- --- --- --- \n"
     ]
    },
    {
     "data": {
      "text/plain": [
       "[[0, 0, 0, 0, 0, 0],\n",
       " [0, 0, 0, 0, 0, 0],\n",
       " [0, 0, 0, 0, 0, 0],\n",
       " [0, 0, 0, 0, 0, 0],\n",
       " [0, 0, 0, 0, 0, 0],\n",
       " [0, 0, 0, 0, 0, 0]]"
      ]
     },
     "execution_count": 16,
     "metadata": {},
     "output_type": "execute_result"
    }
   ],
   "source": [
    "# Test your solution here\n",
    "\n",
    "tictactoe_board3(6,6)"
   ]
  },
  {
   "cell_type": "markdown",
   "metadata": {},
   "source": [
    "*Exercise 7:* Write a function that takes a board, player number, and location specified as in exercise 6 and then calls exercise 5 to correctly modify the board.  "
   ]
  },
  {
   "cell_type": "code",
   "execution_count": 17,
   "metadata": {},
   "outputs": [],
   "source": [
    "# Write you solution here\n",
    "\n",
    "def showboard(board):\n",
    "    n = len(board)\n",
    "    m = len(board[0])\n",
    "\n",
    "    print(\"    \", end = \"\")\n",
    "    for i in range(1,m+1):\n",
    "        print(f\" {i}  \", end = \"\")\n",
    "    print()\n",
    "    \n",
    "    for i in range(n):\n",
    "        print(\"    \" + \"--- \" * m)\n",
    "        row = chr(65 + i)\n",
    "        print(f\"{row}  \", end = \"\")\n",
    "        for j in range(m):\n",
    "            symbol = board[i][j] if board[i][j] != 0 else \" \"\n",
    "            print(f\"| {symbol} \", end = \"\")\n",
    "        print(\"|\")\n",
    "    print(\"    \" + \"--- \" * m)\n",
    "\n",
    "\n",
    "def newtaketurn(board,player,loc):\n",
    "\n",
    "    if len(loc) < 2:\n",
    "        return False\n",
    "    \n",
    "    rowletter = loc[0].upper()\n",
    "    columnnumber = loc[1:]\n",
    "\n",
    "    if not columnnumber.isdigit():\n",
    "        return False\n",
    "    \n",
    "    row = ord(rowletter) - 65\n",
    "    column = int(columnnumber) - 1\n",
    "\n",
    "    if row < 0 or row >= len(board) or column < 0 or column >= len(board[0]):\n",
    "        return False\n",
    "    if board[row][column] != 0:\n",
    "        return False\n",
    "    \n",
    "    symbol = \"X\" if player == 1 else \"O\"\n",
    "    board[row][column] = symbol\n",
    "    showboard(board)\n",
    "    return True"
   ]
  },
  {
   "cell_type": "code",
   "execution_count": 18,
   "metadata": {},
   "outputs": [
    {
     "name": "stdout",
     "output_type": "stream",
     "text": [
      "     1   2   3  \n",
      "    --- --- --- \n",
      "A  |   |   |   |\n",
      "    --- --- --- \n",
      "B  |   |   |   |\n",
      "    --- --- --- \n",
      "C  |   |   |   |\n",
      "    --- --- --- \n",
      "     1   2   3  \n",
      "    --- --- --- \n",
      "A  | X |   |   |\n",
      "    --- --- --- \n",
      "B  |   |   |   |\n",
      "    --- --- --- \n",
      "C  |   |   |   |\n",
      "    --- --- --- \n",
      "     1   2   3  \n",
      "    --- --- --- \n",
      "A  | X |   |   |\n",
      "    --- --- --- \n",
      "B  |   | O |   |\n",
      "    --- --- --- \n",
      "C  |   |   |   |\n",
      "    --- --- --- \n",
      "     1   2   3  \n",
      "    --- --- --- \n",
      "A  | X |   |   |\n",
      "    --- --- --- \n",
      "B  |   | O |   |\n",
      "    --- --- --- \n",
      "C  | X |   |   |\n",
      "    --- --- --- \n"
     ]
    },
    {
     "data": {
      "text/plain": [
       "True"
      ]
     },
     "execution_count": 18,
     "metadata": {},
     "output_type": "execute_result"
    }
   ],
   "source": [
    "# Test your solution here\n",
    "\n",
    "board = tictactoe_board3(3,3)\n",
    "\n",
    "newtaketurn(board,1,\"A1\")\n",
    "newtaketurn(board,2,\"b2\")\n",
    "newtaketurn(board,1,\"c1\")"
   ]
  },
  {
   "cell_type": "markdown",
   "metadata": {},
   "source": [
    "*Exercise 8:* Write a function is called with a board and player number, takes input from the player using python's `input`, and modifies the board using your function from exercise 7. Note that you should keep asking for input until you have gotten a valid input that results in a valid move."
   ]
  },
  {
   "cell_type": "code",
   "execution_count": 35,
   "metadata": {},
   "outputs": [],
   "source": [
    "# Write you solution here\n",
    "\n",
    "def taketurninput(board,player):\n",
    "    while True:\n",
    "        loc = input(f\"Player {player}, enter your move: \")\n",
    "\n",
    "        if newtaketurn(board,player,loc):\n",
    "            break\n",
    "        else:\n",
    "            print(\"Try again\")"
   ]
  },
  {
   "cell_type": "code",
   "execution_count": 36,
   "metadata": {},
   "outputs": [
    {
     "name": "stdout",
     "output_type": "stream",
     "text": [
      "     1   2   3  \n",
      "    --- --- --- \n",
      "A  |   |   |   |\n",
      "    --- --- --- \n",
      "B  |   |   |   |\n",
      "    --- --- --- \n",
      "C  |   |   |   |\n",
      "    --- --- --- \n"
     ]
    },
    {
     "name": "stdin",
     "output_type": "stream",
     "text": [
      "Player 1, enter your move:  hfieurgh\n"
     ]
    },
    {
     "name": "stdout",
     "output_type": "stream",
     "text": [
      "Try again\n"
     ]
    },
    {
     "name": "stdin",
     "output_type": "stream",
     "text": [
      "Player 1, enter your move:  D2\n"
     ]
    },
    {
     "name": "stdout",
     "output_type": "stream",
     "text": [
      "Try again\n"
     ]
    },
    {
     "name": "stdin",
     "output_type": "stream",
     "text": [
      "Player 1, enter your move:  B6\n"
     ]
    },
    {
     "name": "stdout",
     "output_type": "stream",
     "text": [
      "Try again\n"
     ]
    },
    {
     "name": "stdin",
     "output_type": "stream",
     "text": [
      "Player 1, enter your move:  A1\n"
     ]
    },
    {
     "name": "stdout",
     "output_type": "stream",
     "text": [
      "     1   2   3  \n",
      "    --- --- --- \n",
      "A  | X |   |   |\n",
      "    --- --- --- \n",
      "B  |   |   |   |\n",
      "    --- --- --- \n",
      "C  |   |   |   |\n",
      "    --- --- --- \n"
     ]
    }
   ],
   "source": [
    "# Test your solution here\n",
    "\n",
    "board2 = tictactoe_board3(3,3)\n",
    "\n",
    "taketurninput(board2,1)"
   ]
  },
  {
   "cell_type": "code",
   "execution_count": 37,
   "metadata": {},
   "outputs": [
    {
     "name": "stdin",
     "output_type": "stream",
     "text": [
      "Player 2, enter your move:  B3\n"
     ]
    },
    {
     "name": "stdout",
     "output_type": "stream",
     "text": [
      "     1   2   3  \n",
      "    --- --- --- \n",
      "A  | X |   |   |\n",
      "    --- --- --- \n",
      "B  |   |   | O |\n",
      "    --- --- --- \n",
      "C  |   |   |   |\n",
      "    --- --- --- \n"
     ]
    }
   ],
   "source": [
    "taketurninput(board2,2)"
   ]
  },
  {
   "cell_type": "markdown",
   "metadata": {},
   "source": [
    "*Exercise 9:* Use all of the previous exercises to implement a full tic-tac-toe game, where an appropriate board is drawn, 2 players are repeatedly asked for a location coordinates of where they wish to place a mark, and the game status is checked until a player wins or a draw occurs."
   ]
  },
  {
   "cell_type": "code",
   "execution_count": 38,
   "metadata": {},
   "outputs": [],
   "source": [
    "def tictactoe_winner2(board):\n",
    "    n = len(board)\n",
    "    \n",
    "    for i in range(n):\n",
    "        if all(cell == \"X\" for cell in board[i]):\n",
    "            return 1\n",
    "        if all(cell == \"O\" for cell in board[i]):\n",
    "            return 2\n",
    "        if all(board[j][i] == \"X\" for j in range(n)):\n",
    "            return 1\n",
    "        if all(board[j][i] == \"O\" for j in range(n)):\n",
    "            return 2\n",
    "    if all(board[i][i] == \"X\" for i in range(n)):\n",
    "        return 1\n",
    "    if all(board[i][i] == \"O\" for i in range(n)):\n",
    "        return 2\n",
    "    if all(board[i][n - 1 - i] == \"X\" for i in range(n)):\n",
    "        return 1\n",
    "    if all(board[i][n - 1 - i] == \"O\" for i in range(n)):\n",
    "        return 2\n",
    "    for i in board:\n",
    "        if 0 in i:\n",
    "            return -1\n",
    "    return 0"
   ]
  },
  {
   "cell_type": "code",
   "execution_count": 39,
   "metadata": {},
   "outputs": [],
   "source": [
    "# Write you solution here\n",
    "\n",
    "def tictactoe(n,m):\n",
    "    board = tictactoe_board3(n,m)\n",
    "    player = 1\n",
    "\n",
    "    while True:\n",
    "        taketurninput(board,player)\n",
    "        result = tictactoe_winner2(board)\n",
    "        \n",
    "        if result == 1:\n",
    "            print(\"The winner is player 1\")\n",
    "            break\n",
    "        elif result == 2:\n",
    "            print(\"The winner is player 2\")\n",
    "            break\n",
    "        elif result == 0:\n",
    "            print(\"The game is a draw\")\n",
    "            break\n",
    "        \n",
    "\n",
    "        player = 2 if player == 1 else 1"
   ]
  },
  {
   "cell_type": "code",
   "execution_count": 40,
   "metadata": {},
   "outputs": [
    {
     "name": "stdout",
     "output_type": "stream",
     "text": [
      "     1   2   3  \n",
      "    --- --- --- \n",
      "A  |   |   |   |\n",
      "    --- --- --- \n",
      "B  |   |   |   |\n",
      "    --- --- --- \n",
      "C  |   |   |   |\n",
      "    --- --- --- \n"
     ]
    },
    {
     "name": "stdin",
     "output_type": "stream",
     "text": [
      "Player 1, enter your move:  A1\n"
     ]
    },
    {
     "name": "stdout",
     "output_type": "stream",
     "text": [
      "     1   2   3  \n",
      "    --- --- --- \n",
      "A  | X |   |   |\n",
      "    --- --- --- \n",
      "B  |   |   |   |\n",
      "    --- --- --- \n",
      "C  |   |   |   |\n",
      "    --- --- --- \n"
     ]
    },
    {
     "name": "stdin",
     "output_type": "stream",
     "text": [
      "Player 2, enter your move:  A3\n"
     ]
    },
    {
     "name": "stdout",
     "output_type": "stream",
     "text": [
      "     1   2   3  \n",
      "    --- --- --- \n",
      "A  | X |   | O |\n",
      "    --- --- --- \n",
      "B  |   |   |   |\n",
      "    --- --- --- \n",
      "C  |   |   |   |\n",
      "    --- --- --- \n"
     ]
    },
    {
     "name": "stdin",
     "output_type": "stream",
     "text": [
      "Player 1, enter your move:  B2\n"
     ]
    },
    {
     "name": "stdout",
     "output_type": "stream",
     "text": [
      "     1   2   3  \n",
      "    --- --- --- \n",
      "A  | X |   | O |\n",
      "    --- --- --- \n",
      "B  |   | X |   |\n",
      "    --- --- --- \n",
      "C  |   |   |   |\n",
      "    --- --- --- \n"
     ]
    },
    {
     "name": "stdin",
     "output_type": "stream",
     "text": [
      "Player 2, enter your move:  B3\n"
     ]
    },
    {
     "name": "stdout",
     "output_type": "stream",
     "text": [
      "     1   2   3  \n",
      "    --- --- --- \n",
      "A  | X |   | O |\n",
      "    --- --- --- \n",
      "B  |   | X | O |\n",
      "    --- --- --- \n",
      "C  |   |   |   |\n",
      "    --- --- --- \n"
     ]
    },
    {
     "name": "stdin",
     "output_type": "stream",
     "text": [
      "Player 1, enter your move:  C3\n"
     ]
    },
    {
     "name": "stdout",
     "output_type": "stream",
     "text": [
      "     1   2   3  \n",
      "    --- --- --- \n",
      "A  | X |   | O |\n",
      "    --- --- --- \n",
      "B  |   | X | O |\n",
      "    --- --- --- \n",
      "C  |   |   | X |\n",
      "    --- --- --- \n",
      "The winner is player 1\n"
     ]
    }
   ],
   "source": [
    "# Test your solution here\n",
    "\n",
    "tictactoe(3,3)"
   ]
  },
  {
   "cell_type": "markdown",
   "metadata": {},
   "source": [
    "*Exercise 10:* Test that your game works for 5x5 Tic Tac Toe.  "
   ]
  },
  {
   "cell_type": "code",
   "execution_count": 41,
   "metadata": {},
   "outputs": [
    {
     "name": "stdout",
     "output_type": "stream",
     "text": [
      "     1   2   3   4   5  \n",
      "    --- --- --- --- --- \n",
      "A  |   |   |   |   |   |\n",
      "    --- --- --- --- --- \n",
      "B  |   |   |   |   |   |\n",
      "    --- --- --- --- --- \n",
      "C  |   |   |   |   |   |\n",
      "    --- --- --- --- --- \n",
      "D  |   |   |   |   |   |\n",
      "    --- --- --- --- --- \n",
      "E  |   |   |   |   |   |\n",
      "    --- --- --- --- --- \n"
     ]
    },
    {
     "name": "stdin",
     "output_type": "stream",
     "text": [
      "Player 1, enter your move:  A3\n"
     ]
    },
    {
     "name": "stdout",
     "output_type": "stream",
     "text": [
      "     1   2   3   4   5  \n",
      "    --- --- --- --- --- \n",
      "A  |   |   | X |   |   |\n",
      "    --- --- --- --- --- \n",
      "B  |   |   |   |   |   |\n",
      "    --- --- --- --- --- \n",
      "C  |   |   |   |   |   |\n",
      "    --- --- --- --- --- \n",
      "D  |   |   |   |   |   |\n",
      "    --- --- --- --- --- \n",
      "E  |   |   |   |   |   |\n",
      "    --- --- --- --- --- \n"
     ]
    },
    {
     "name": "stdin",
     "output_type": "stream",
     "text": [
      "Player 2, enter your move:  A1\n"
     ]
    },
    {
     "name": "stdout",
     "output_type": "stream",
     "text": [
      "     1   2   3   4   5  \n",
      "    --- --- --- --- --- \n",
      "A  | O |   | X |   |   |\n",
      "    --- --- --- --- --- \n",
      "B  |   |   |   |   |   |\n",
      "    --- --- --- --- --- \n",
      "C  |   |   |   |   |   |\n",
      "    --- --- --- --- --- \n",
      "D  |   |   |   |   |   |\n",
      "    --- --- --- --- --- \n",
      "E  |   |   |   |   |   |\n",
      "    --- --- --- --- --- \n"
     ]
    },
    {
     "name": "stdin",
     "output_type": "stream",
     "text": [
      "Player 1, enter your move:  B3\n"
     ]
    },
    {
     "name": "stdout",
     "output_type": "stream",
     "text": [
      "     1   2   3   4   5  \n",
      "    --- --- --- --- --- \n",
      "A  | O |   | X |   |   |\n",
      "    --- --- --- --- --- \n",
      "B  |   |   | X |   |   |\n",
      "    --- --- --- --- --- \n",
      "C  |   |   |   |   |   |\n",
      "    --- --- --- --- --- \n",
      "D  |   |   |   |   |   |\n",
      "    --- --- --- --- --- \n",
      "E  |   |   |   |   |   |\n",
      "    --- --- --- --- --- \n"
     ]
    },
    {
     "name": "stdin",
     "output_type": "stream",
     "text": [
      "Player 2, enter your move:  B3\n"
     ]
    },
    {
     "name": "stdout",
     "output_type": "stream",
     "text": [
      "Try again\n"
     ]
    },
    {
     "name": "stdin",
     "output_type": "stream",
     "text": [
      "Player 2, enter your move:  C3\n"
     ]
    },
    {
     "name": "stdout",
     "output_type": "stream",
     "text": [
      "     1   2   3   4   5  \n",
      "    --- --- --- --- --- \n",
      "A  | O |   | X |   |   |\n",
      "    --- --- --- --- --- \n",
      "B  |   |   | X |   |   |\n",
      "    --- --- --- --- --- \n",
      "C  |   |   | O |   |   |\n",
      "    --- --- --- --- --- \n",
      "D  |   |   |   |   |   |\n",
      "    --- --- --- --- --- \n",
      "E  |   |   |   |   |   |\n",
      "    --- --- --- --- --- \n"
     ]
    },
    {
     "name": "stdin",
     "output_type": "stream",
     "text": [
      "Player 1, enter your move:  D3\n"
     ]
    },
    {
     "name": "stdout",
     "output_type": "stream",
     "text": [
      "     1   2   3   4   5  \n",
      "    --- --- --- --- --- \n",
      "A  | O |   | X |   |   |\n",
      "    --- --- --- --- --- \n",
      "B  |   |   | X |   |   |\n",
      "    --- --- --- --- --- \n",
      "C  |   |   | O |   |   |\n",
      "    --- --- --- --- --- \n",
      "D  |   |   | X |   |   |\n",
      "    --- --- --- --- --- \n",
      "E  |   |   |   |   |   |\n",
      "    --- --- --- --- --- \n"
     ]
    },
    {
     "name": "stdin",
     "output_type": "stream",
     "text": [
      "Player 2, enter your move:  B2\n"
     ]
    },
    {
     "name": "stdout",
     "output_type": "stream",
     "text": [
      "     1   2   3   4   5  \n",
      "    --- --- --- --- --- \n",
      "A  | O |   | X |   |   |\n",
      "    --- --- --- --- --- \n",
      "B  |   | O | X |   |   |\n",
      "    --- --- --- --- --- \n",
      "C  |   |   | O |   |   |\n",
      "    --- --- --- --- --- \n",
      "D  |   |   | X |   |   |\n",
      "    --- --- --- --- --- \n",
      "E  |   |   |   |   |   |\n",
      "    --- --- --- --- --- \n"
     ]
    },
    {
     "name": "stdin",
     "output_type": "stream",
     "text": [
      "Player 1, enter your move:  E3\n"
     ]
    },
    {
     "name": "stdout",
     "output_type": "stream",
     "text": [
      "     1   2   3   4   5  \n",
      "    --- --- --- --- --- \n",
      "A  | O |   | X |   |   |\n",
      "    --- --- --- --- --- \n",
      "B  |   | O | X |   |   |\n",
      "    --- --- --- --- --- \n",
      "C  |   |   | O |   |   |\n",
      "    --- --- --- --- --- \n",
      "D  |   |   | X |   |   |\n",
      "    --- --- --- --- --- \n",
      "E  |   |   | X |   |   |\n",
      "    --- --- --- --- --- \n"
     ]
    },
    {
     "name": "stdin",
     "output_type": "stream",
     "text": [
      "Player 2, enter your move:  D4\n"
     ]
    },
    {
     "name": "stdout",
     "output_type": "stream",
     "text": [
      "     1   2   3   4   5  \n",
      "    --- --- --- --- --- \n",
      "A  | O |   | X |   |   |\n",
      "    --- --- --- --- --- \n",
      "B  |   | O | X |   |   |\n",
      "    --- --- --- --- --- \n",
      "C  |   |   | O |   |   |\n",
      "    --- --- --- --- --- \n",
      "D  |   |   | X | O |   |\n",
      "    --- --- --- --- --- \n",
      "E  |   |   | X |   |   |\n",
      "    --- --- --- --- --- \n"
     ]
    },
    {
     "name": "stdin",
     "output_type": "stream",
     "text": [
      "Player 1, enter your move:  C5\n"
     ]
    },
    {
     "name": "stdout",
     "output_type": "stream",
     "text": [
      "     1   2   3   4   5  \n",
      "    --- --- --- --- --- \n",
      "A  | O |   | X |   |   |\n",
      "    --- --- --- --- --- \n",
      "B  |   | O | X |   |   |\n",
      "    --- --- --- --- --- \n",
      "C  |   |   | O |   | X |\n",
      "    --- --- --- --- --- \n",
      "D  |   |   | X | O |   |\n",
      "    --- --- --- --- --- \n",
      "E  |   |   | X |   |   |\n",
      "    --- --- --- --- --- \n"
     ]
    },
    {
     "name": "stdin",
     "output_type": "stream",
     "text": [
      "Player 2, enter your move:  E5\n"
     ]
    },
    {
     "name": "stdout",
     "output_type": "stream",
     "text": [
      "     1   2   3   4   5  \n",
      "    --- --- --- --- --- \n",
      "A  | O |   | X |   |   |\n",
      "    --- --- --- --- --- \n",
      "B  |   | O | X |   |   |\n",
      "    --- --- --- --- --- \n",
      "C  |   |   | O |   | X |\n",
      "    --- --- --- --- --- \n",
      "D  |   |   | X | O |   |\n",
      "    --- --- --- --- --- \n",
      "E  |   |   | X |   | O |\n",
      "    --- --- --- --- --- \n",
      "The winner is player 2\n"
     ]
    }
   ],
   "source": [
    "# Test your solution here\n",
    "\n",
    "tictactoe(5,5)"
   ]
  }
 ],
 "metadata": {
  "kernelspec": {
   "display_name": "Python 3 (ipykernel)",
   "language": "python",
   "name": "python3"
  },
  "language_info": {
   "codemirror_mode": {
    "name": "ipython",
    "version": 3
   },
   "file_extension": ".py",
   "mimetype": "text/x-python",
   "name": "python",
   "nbconvert_exporter": "python",
   "pygments_lexer": "ipython3",
   "version": "3.10.12"
  }
 },
 "nbformat": 4,
 "nbformat_minor": 4
}
