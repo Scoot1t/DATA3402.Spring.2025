{
 "cells": [
  {
   "cell_type": "markdown",
   "metadata": {},
   "source": [
    "# Lab 5\n"
   ]
  },
  {
   "cell_type": "markdown",
   "metadata": {},
   "source": [
    "Matrix Representation: In this lab you will be creating a simple linear algebra system. In memory, we will represent matrices as nested python lists as we have done in lecture. In the exercises below, you are required to explicitly test every feature you implement, demonstrating it works.\n",
    "\n",
    "1. Create a `matrix` class with the following properties:\n",
    "    * It can be initialized in 2 ways:\n",
    "        1. with arguments `n` and `m`, the size of the matrix. A newly instanciated matrix will contain all zeros.\n",
    "        2. with a list of lists of values. Note that since we are using lists of lists to implement matrices, it is possible that not all rows have the same number of columns. Test explicitly that the matrix is properly specified.\n",
    "    * Matrix instances `M` can be indexed with `M[i][j]` and `M[i,j]`.\n",
    "    * Matrix assignment works in 2 ways:\n",
    "        1. If `M_1` and `M_2` are `matrix` instances `M_1=M_2` sets the values of `M_1` to those of `M_2`, if they are the same size. Error otherwise.\n",
    "        2. In example above `M_2` can be a list of lists of correct size.\n"
   ]
  },
  {
   "cell_type": "markdown",
   "metadata": {},
   "source": [
    "2. Add the following methods:\n",
    "    * `shape()`: returns a tuple `(n,m)` of the shape of the matrix.\n",
    "    * `transpose()`: returns a new matrix instance which is the transpose of the matrix.\n",
    "    * `row(n)` and `column(n)`: that return the nth row or column of the matrix M as a new appropriately shaped matrix object.\n",
    "    * `to_list()`: which returns the matrix as a list of lists.\n",
    "    *  `block(n_0,n_1,m_0,m_1)` that returns a smaller matrix located at the n_0 to n_1 columns and m_0 to m_1 rows. \n",
    "    * (Extra credit) Modify `__getitem__` implemented above to support slicing.\n",
    "        "
   ]
  },
  {
   "cell_type": "markdown",
   "metadata": {},
   "source": [
    "3. Write functions that create special matrices (note these are standalone functions, not member functions of your `matrix` class):\n",
    "    * `constant(n,m,c)`: returns a `n` by `m` matrix filled with floats of value `c`.\n",
    "    * `zeros(n,m)` and `ones(n,m)`: return `n` by `m` matrices filled with floats of value `0` and `1`, respectively.\n",
    "    * `eye(n)`: returns the n by n identity matrix."
   ]
  },
  {
   "cell_type": "markdown",
   "metadata": {},
   "source": [
    "4. Add the following member functions to your class. Make sure to appropriately test the dimensions of the matrices to make sure the operations are correct.\n",
    "    * `M.scalarmul(c)`: a matrix that is scalar product $cM$, where every element of $M$ is multiplied by $c$.\n",
    "    * `M.add(N)`: adds two matrices $M$ and $N$. Don’t forget to test that the sizes of the matrices are compatible for this and all other operations.\n",
    "    * `M.sub(N)`: subtracts two matrices $M$ and $N$.\n",
    "    * `M.mat_mult(N)`: returns a matrix that is the matrix product of two matrices $M$ and $N$.\n",
    "    * `M.element_mult(N)`: returns a matrix that is the element-wise product of two matrices $M$ and $N$.\n",
    "    * `M.equals(N)`: returns true/false if $M==N$."
   ]
  },
  {
   "cell_type": "markdown",
   "metadata": {},
   "source": [
    "5. Overload python operators to appropriately use your functions in 4 and allow expressions like:\n",
    "    * 2*M\n",
    "    * M*2\n",
    "    * M+N\n",
    "    * M-N\n",
    "    * M*N\n",
    "    * M==N\n",
    "    * M=N\n"
   ]
  },
  {
   "cell_type": "markdown",
   "metadata": {},
   "source": [
    "6. Demonstrate the basic properties of matrices with your matrix class by creating two 2 by 2 example matrices using your Matrix class and illustrating the following:\n",
    "\n",
    "$$\n",
    "(AB)C=A(BC)\n",
    "$$\n",
    "$$\n",
    "A(B+C)=AB+AC\n",
    "$$\n",
    "$$\n",
    "AB\\neq BA\n",
    "$$\n",
    "$$\n",
    "AI=A\n",
    "$$"
   ]
  },
  {
   "cell_type": "code",
   "execution_count": 117,
   "metadata": {},
   "outputs": [],
   "source": [
    "class Matrix:\n",
    "    def __init__(self, n = None, m = None, values = None):\n",
    "        if values is not None:\n",
    "            if not all(len(row) == len(values[0]) for row in values):\n",
    "                raise ValueError(\"The rows are not the same length\")\n",
    "            self.data = [row[:] for row in values]\n",
    "            self.rows = len(values)\n",
    "            self.columns = len(values[0])\n",
    "        elif n is not None and m is not None:\n",
    "            self.rows = n\n",
    "            self.columns = m\n",
    "            self.data = [[0 for i in range(m)] for i in range(n)]\n",
    "        else:\n",
    "            raise ValueError(\"Error: invalid input\")\n",
    "\n",
    "    def __getitem__(self, key):\n",
    "        if isinstance(key, tuple):\n",
    "            i, j = key\n",
    "            return self.data[i][j]\n",
    "        return self.data[key]\n",
    "\n",
    "    def __setitem__(self, key, value):\n",
    "        if isinstance(key, tuple):\n",
    "            i, j = key\n",
    "            self.data[i][j] = value\n",
    "        else:\n",
    "            self.data[key] = value\n",
    "\n",
    "    def __eq__(self, matrix2):\n",
    "        return self.data == matrix2.data\n",
    "\n",
    "    def __repr__(self):\n",
    "        return \"\\n\".join([\" \".join(map(str,row)) for row in self.data])\n",
    "\n",
    "    def shape(self):\n",
    "        return self.rows, self.columns\n",
    "\n",
    "    def transpose(self):\n",
    "        return Matrix(self.columns, self.rows, [[self.data[i][j] for i in range(self.rows)] for j in range(self.columns)])\n",
    "\n",
    "    def row(self, n):\n",
    "        return Matrix(1, self.columns, [self.data[n]])\n",
    "\n",
    "    def column(self, n):\n",
    "        column = [self.data[i][n] for i in range(self.rows)]\n",
    "        return Matrix(self.rows, 1, [[item] for item in column])\n",
    "\n",
    "    def to_list(self):\n",
    "        return self.data\n",
    "\n",
    "    def block(self, n0, n1, m0, m1):\n",
    "        blockdata = [row[m0:m1+1] for row in self.data[n0:n1+1]]\n",
    "        return Matrix(n1 - n0 + 1, m1 - m0 + 1, blockdata)\n",
    "\n",
    "    def scalarmult(self,c):\n",
    "        return Matrix(self.rows, self.columns, [[self.data[i][j] * c for j in range(self.columns)] for i in range(self.rows)])\n",
    "\n",
    "    def add(self, N):\n",
    "        if self.shape() != N.shape():\n",
    "            raise ValueError(\"Matrices are not the same shape\")\n",
    "        return Matrix(self.rows, self.columns, [[self.data[i][j] + N[i][j] for j in range(self.columns)] for i in range(self.rows)])\n",
    "\n",
    "    def sub(self,N):\n",
    "        if self.shape() != N.shape():\n",
    "            raise ValueError(\"Matrices are not the same shape\")\n",
    "        return Matrix(self.rows, self.columns, [[self.data[i][j] - N[i][j] for j in range(self.columns)] for i in range(self.rows)])\n",
    "\n",
    "    def matmult(self, N):\n",
    "        if self.columns != N.rows:\n",
    "            raise ValueError(\"Matricies are not of the correct shape to multiply\")\n",
    "        product = []\n",
    "        for i in range(self.rows):\n",
    "            row = []\n",
    "            for j in range(N.columns):\n",
    "                prod = sum(self.data[i][k] * N[k][j] for k in range(self.columns))\n",
    "                row.append(prod)\n",
    "            product.append(row)\n",
    "        return Matrix(self.rows, N.columns, product)\n",
    "\n",
    "    def elementmult(self, N):\n",
    "        if self.shape() != N.shape():\n",
    "            raise ValueError(\"Matrices are not the same shape\")\n",
    "        return Matrix(self.rows, self.columns, [[self.data[i][j] * N[i][j] for j in range(self.columns)] for i in range(self.rows)])\n",
    "\n",
    "    def equals(self, N):\n",
    "        if self.shape() != N.shape():\n",
    "            return False\n",
    "        return all(self.data[i][j] == N[i][j] for i in range (self.rows) for j in range(self.columns))\n",
    "\n",
    "    def __add__(self, other):\n",
    "        if isinstance(other, (int,float)):\n",
    "            return Matrix(self.rows, self.columns, [[self[i][j] + other for j in range(self.columns)] for i in range(self.rows)])\n",
    "        else:\n",
    "            return self.add(other)\n",
    "\n",
    "    def __sub__(self, N):\n",
    "        return self.sub(N)\n",
    "\n",
    "    def __mul__(self,other):\n",
    "        if isinstance(other, Matrix):\n",
    "            return self.matmult(other)\n",
    "        else:\n",
    "            return self.scalarmult(other)\n",
    "\n",
    "    def __rmul__(self, c):\n",
    "        return self.scalarmult(c)\n",
    "\n",
    "    def __eq__(self, N):\n",
    "        return self.equals(N)\n",
    "\n",
    "def constant(n, m, c):\n",
    "    return Matrix(n, m, [[c for i in range(m)] for i in range(n)])\n",
    "\n",
    "def zeros(n,m):\n",
    "    return Matrix(n, m, [[0.0 for i in range(m)] for i in range(n)])\n",
    "\n",
    "def ones(n,m):\n",
    "    return Matrix(n, m, [[1.0 for i in range(m)] for i in range(n)])\n",
    "\n",
    "def eye(n):\n",
    "    return Matrix(n, n, [[1 if i == j else 0 for j in range(n)] for i in range(n)])"
   ]
  },
  {
   "cell_type": "code",
   "execution_count": null,
   "metadata": {},
   "outputs": [],
   "source": [
    "## Tests of the code start below this line"
   ]
  },
  {
   "cell_type": "code",
   "execution_count": 47,
   "metadata": {},
   "outputs": [
    {
     "name": "stdout",
     "output_type": "stream",
     "text": [
      "6\n",
      "10\n"
     ]
    }
   ],
   "source": [
    "# Creating a matrix, calling the value of a cell, then changing that cell's value\n",
    "M1 = Matrix(values=[[1,2,3],[4,5,6],[7,8,9]])\n",
    "print(M1[1][2])\n",
    "M1[1][2] = 10\n",
    "print(M1[1][2])"
   ]
  },
  {
   "cell_type": "code",
   "execution_count": 48,
   "metadata": {},
   "outputs": [
    {
     "name": "stdout",
     "output_type": "stream",
     "text": [
      "0\n",
      "3\n"
     ]
    }
   ],
   "source": [
    "# Making a blank matrix equal to another matrix\n",
    "M2 = Matrix(3,3)\n",
    "print(M2[0,2])\n",
    "M2 = M1\n",
    "print(M2[0,2])"
   ]
  },
  {
   "cell_type": "code",
   "execution_count": 49,
   "metadata": {},
   "outputs": [
    {
     "name": "stdout",
     "output_type": "stream",
     "text": [
      "1 2 3\n",
      "4 5 10\n",
      "7 8 9\n"
     ]
    }
   ],
   "source": [
    "# Using __repr__ to print M2\n",
    "print(M2)"
   ]
  },
  {
   "cell_type": "code",
   "execution_count": 70,
   "metadata": {},
   "outputs": [
    {
     "name": "stdout",
     "output_type": "stream",
     "text": [
      "1 2 3 4\n",
      "3 4 5 6\n",
      "5 6 7 8\n",
      "7 8 9 10 \n",
      "\n",
      "(4, 4) \n",
      "\n",
      "1 3 5 7\n",
      "2 4 6 8\n",
      "3 5 7 9\n",
      "4 6 8 10 \n",
      "\n",
      "5 6 7 8 \n",
      "\n",
      "2\n",
      "4\n",
      "6\n",
      "8 \n",
      "\n",
      "[[1, 2, 3, 4], [3, 4, 5, 6], [5, 6, 7, 8], [7, 8, 9, 10]] \n",
      "\n",
      "1 2\n",
      "3 4\n"
     ]
    }
   ],
   "source": [
    "# Using shape(), transpose(), row(n), column(n), to_list(), and block(n0,n1,m0,m1)\n",
    "\n",
    "M3 = Matrix(values=[[1,2,3,4],[3,4,5,6],[5,6,7,8],[7,8,9,10]])\n",
    "print(M3, \"\\n\")\n",
    "print(M3.shape(), \"\\n\")\n",
    "print(M3.transpose(), \"\\n\")\n",
    "print(M3.row(2), \"\\n\")\n",
    "print(M3.column(1), \"\\n\")\n",
    "print(M3.to_list(), \"\\n\")\n",
    "print(M3.block(0,1,0,1))"
   ]
  },
  {
   "cell_type": "code",
   "execution_count": 87,
   "metadata": {},
   "outputs": [
    {
     "name": "stdout",
     "output_type": "stream",
     "text": [
      "8 8 8 8\n",
      "8 8 8 8\n",
      "8 8 8 8 \n",
      "\n",
      "0.0 0.0\n",
      "0.0 0.0\n",
      "0.0 0.0\n",
      "0.0 0.0\n",
      "0.0 0.0 \n",
      "\n",
      "1.0 1.0 1.0 1.0\n",
      "1.0 1.0 1.0 1.0\n",
      "1.0 1.0 1.0 1.0 \n",
      "\n",
      "1 0 0 0\n",
      "0 1 0 0\n",
      "0 0 1 0\n",
      "0 0 0 1 \n",
      "\n"
     ]
    }
   ],
   "source": [
    "# Testing the constant, zero, one, and identity matrices\n",
    "Mc = constant(3,4,8)\n",
    "print(Mc, \"\\n\")\n",
    "\n",
    "Mzeros = zeros(5,2)\n",
    "print(Mzeros, \"\\n\")\n",
    "\n",
    "Mones = ones(3,4)\n",
    "print(Mones, \"\\n\")\n",
    "\n",
    "Midentity = eye(4)\n",
    "print(Midentity, \"\\n\")"
   ]
  },
  {
   "cell_type": "code",
   "execution_count": 116,
   "metadata": {},
   "outputs": [
    {
     "name": "stdout",
     "output_type": "stream",
     "text": [
      "1 2 3\n",
      "4 5 6\n",
      "7 8 9 \n",
      "\n",
      "3 6 3\n",
      "5 9 8\n",
      "1 4 2 \n",
      "\n",
      "3 6 9\n",
      "12 15 18\n",
      "21 24 27 \n",
      "\n",
      "4 8 6\n",
      "9 14 14\n",
      "8 12 11 \n",
      "\n",
      "-2 -4 0\n",
      "-1 -4 -2\n",
      "6 4 7 \n",
      "\n",
      "16 36 25\n",
      "43 93 64\n",
      "70 150 103 \n",
      "\n",
      "3 12 9\n",
      "20 45 48\n",
      "7 32 18 \n",
      "\n",
      "False \n",
      "\n"
     ]
    }
   ],
   "source": [
    "# Testing scalarmult, add, sub, matmult, elementmult, and equals\n",
    "M4 = Matrix(values = [[1,2,3],[4,5,6],[7,8,9]])\n",
    "M5 = Matrix(values = [[3,6,3],[5,9,8],[1,4,2]])\n",
    "\n",
    "print(M4, \"\\n\")\n",
    "print(M5, \"\\n\")\n",
    "print(M4.scalarmult(3), \"\\n\")\n",
    "print(M4.add(M5), \"\\n\")\n",
    "print(M4.sub(M5), \"\\n\")\n",
    "print(M4.matmult(M5), \"\\n\")\n",
    "print(M4.elementmult(M5), \"\\n\")\n",
    "print(M4.equals(M5), \"\\n\")"
   ]
  },
  {
   "cell_type": "code",
   "execution_count": 119,
   "metadata": {},
   "outputs": [
    {
     "name": "stdout",
     "output_type": "stream",
     "text": [
      "1 2 3\n",
      "4 5 6\n",
      "7 8 9 \n",
      "\n",
      "6 2 3\n",
      "5 4 1\n",
      "3 6 7 \n",
      "\n",
      "2 4 6\n",
      "8 10 12\n",
      "14 16 18 \n",
      "\n",
      "2 4 6\n",
      "8 10 12\n",
      "14 16 18 \n",
      "\n",
      "7 4 6\n",
      "9 9 7\n",
      "10 14 16 \n",
      "\n",
      "-5 0 0\n",
      "-1 1 5\n",
      "4 2 2 \n",
      "\n",
      "25 28 26\n",
      "67 64 59\n",
      "109 100 92 \n",
      "\n",
      "False \n",
      "\n",
      "1 2 3\n",
      "4 5 6\n",
      "7 8 9 \n",
      "\n"
     ]
    }
   ],
   "source": [
    "# Testing the overloaded functions\n",
    "\n",
    "M6 = Matrix(values = [[1,2,3],[4,5,6],[7,8,9]])\n",
    "M7 = Matrix(values = [[6,2,3],[5,4,1],[3,6,7]])\n",
    "M8 = Matrix(3,3)\n",
    "\n",
    "print(M6, \"\\n\")\n",
    "print(M7, \"\\n\")\n",
    "print(2 * M6, \"\\n\")\n",
    "print(M6 * 2, \"\\n\")\n",
    "print(M6 + M7, \"\\n\")\n",
    "print(M6 - M7, \"\\n\")\n",
    "print(M6 * M7, \"\\n\")\n",
    "print(M6 == M7, \"\\n\")\n",
    "M8 = M6\n",
    "print(M8, \"\\n\")\n"
   ]
  },
  {
   "cell_type": "code",
   "execution_count": 124,
   "metadata": {},
   "outputs": [
    {
     "name": "stdout",
     "output_type": "stream",
     "text": [
      "340 340\n",
      "780 780 \n",
      "\n",
      "340 340\n",
      "780 780 \n",
      "\n"
     ]
    }
   ],
   "source": [
    "# (AB)C = A(BC)\n",
    "\n",
    "A = Matrix(values = [[1,2],[3,4]])\n",
    "B = Matrix(values = [[7,3],[4,8]])\n",
    "C = Matrix(values = [[10,10],[10,10]])\n",
    "\n",
    "AB = A * B\n",
    "ABC1 = AB * C\n",
    "BC = B * C\n",
    "ABC2 = A * BC\n",
    "print(ABC1, \"\\n\")\n",
    "print(ABC2, \"\\n\")"
   ]
  },
  {
   "cell_type": "code",
   "execution_count": 126,
   "metadata": {},
   "outputs": [
    {
     "name": "stdout",
     "output_type": "stream",
     "text": [
      "45 49\n",
      "107 111 \n",
      "\n",
      "45 49\n",
      "107 111\n"
     ]
    }
   ],
   "source": [
    "# A(B + C) = AB + AC\n",
    "\n",
    "BpC = B + C\n",
    "ABpC = A * BpC\n",
    "\n",
    "AB = A * B\n",
    "AC = A * C\n",
    "ABpAC = AB + AC\n",
    "\n",
    "print(ABpC, \"\\n\")\n",
    "print(ABpAC)\n"
   ]
  },
  {
   "cell_type": "code",
   "execution_count": 127,
   "metadata": {},
   "outputs": [
    {
     "name": "stdout",
     "output_type": "stream",
     "text": [
      "15 19\n",
      "37 41 \n",
      "\n",
      "16 26\n",
      "28 40\n"
     ]
    }
   ],
   "source": [
    "# AB != BA\n",
    "\n",
    "AB = A * B\n",
    "BA = B * A\n",
    "\n",
    "print(AB,\"\\n\")\n",
    "print(BA)"
   ]
  },
  {
   "cell_type": "code",
   "execution_count": 128,
   "metadata": {},
   "outputs": [
    {
     "name": "stdout",
     "output_type": "stream",
     "text": [
      "1 2\n",
      "3 4 \n",
      "\n",
      "1 2\n",
      "3 4\n"
     ]
    }
   ],
   "source": [
    "# AI = A\n",
    "\n",
    "I = Matrix(values = [[1,0],[0,1]])\n",
    "\n",
    "AI = A * I\n",
    "\n",
    "print(AI, \"\\n\")\n",
    "print(A)"
   ]
  }
 ],
 "metadata": {
  "kernelspec": {
   "display_name": "Python 3 (ipykernel)",
   "language": "python",
   "name": "python3"
  },
  "language_info": {
   "codemirror_mode": {
    "name": "ipython",
    "version": 3
   },
   "file_extension": ".py",
   "mimetype": "text/x-python",
   "name": "python",
   "nbconvert_exporter": "python",
   "pygments_lexer": "ipython3",
   "version": "3.10.12"
  }
 },
 "nbformat": 4,
 "nbformat_minor": 4
}
