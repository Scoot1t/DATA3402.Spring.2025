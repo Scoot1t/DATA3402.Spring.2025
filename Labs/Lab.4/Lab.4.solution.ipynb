{
 "cells": [
  {
   "cell_type": "markdown",
   "metadata": {},
   "source": [
    "# Lab 4- Object Oriented Programming\n",
    "\n",
    "For all of the exercises below, make sure you provide tests of your solutions.\n"
   ]
  },
  {
   "cell_type": "markdown",
   "metadata": {},
   "source": [
    "1. Write a \"counter\" class that can be incremented up to a specified maximum value, will print an error if an attempt is made to increment beyond that value, and allows reseting the counter. "
   ]
  },
  {
   "cell_type": "code",
   "execution_count": 39,
   "metadata": {},
   "outputs": [],
   "source": [
    "class counter1:\n",
    "    def __init__(self,maxvalue):\n",
    "        self.maxvalue = maxvalue\n",
    "        self.value = 0\n",
    "\n",
    "    def increment(self):\n",
    "        if self.value < self.maxvalue:\n",
    "            self.value += 1\n",
    "        else:\n",
    "            print(\"The counter is already at its maximum value\")\n",
    "\n",
    "    def reset(self):\n",
    "        self.value = 0\n"
   ]
  },
  {
   "cell_type": "code",
   "execution_count": 40,
   "metadata": {},
   "outputs": [
    {
     "name": "stdout",
     "output_type": "stream",
     "text": [
      "The counter is already at its maximum value\n"
     ]
    }
   ],
   "source": [
    "c1 = counter1(2)\n",
    "c1.increment()\n",
    "c1.increment()\n",
    "c1.reset()\n",
    "c1.increment()\n",
    "c1.increment()\n",
    "c1.increment()"
   ]
  },
  {
   "cell_type": "markdown",
   "metadata": {},
   "source": [
    "2. Copy and paste your solution to question 1 and modify it so that all the data held by the counter is private. Implement functions to check the value of the counter, check the maximum value, and check if the counter is at the maximum."
   ]
  },
  {
   "cell_type": "code",
   "execution_count": 57,
   "metadata": {},
   "outputs": [],
   "source": [
    "class counter2:\n",
    "    def __init__(self,maxvalue):\n",
    "        self.maxvalue = maxvalue\n",
    "        self.value = 0\n",
    "\n",
    "    def increment(self):\n",
    "        if self.value < self.maxvalue:\n",
    "            self.value += 1\n",
    "\n",
    "    def reset(self):\n",
    "        self.value = 0\n",
    "\n",
    "    def valuecheck(self):\n",
    "        return self.value\n",
    "\n",
    "    def maxcheck(self):\n",
    "        return f\"The maximum value is {self.maxvalue}\"\n",
    "\n",
    "    def isatmaxcheck(self):\n",
    "        return self.value == self.maxvalue"
   ]
  },
  {
   "cell_type": "code",
   "execution_count": 61,
   "metadata": {},
   "outputs": [
    {
     "name": "stdout",
     "output_type": "stream",
     "text": [
      "3\n",
      "The maximum value is 3\n",
      "True\n"
     ]
    }
   ],
   "source": [
    "c2 = counter2(3)\n",
    "for i in range(10):\n",
    "    c2.increment()\n",
    "print(c2.valuecheck())\n",
    "print(c2.maxcheck())\n",
    "print(c2.isatmaxcheck())"
   ]
  },
  {
   "cell_type": "markdown",
   "metadata": {},
   "source": [
    "3. Implement a class to represent a rectangle, holding the length, width, and $x$ and $y$ coordinates of a corner of the object. Implement functions that compute the area and perimeter of the rectangle. Make all data members private and privide accessors to retrieve values of data members. "
   ]
  },
  {
   "cell_type": "code",
   "execution_count": 62,
   "metadata": {},
   "outputs": [],
   "source": [
    "class rectangle:\n",
    "    def __init__(self,l,w,x,y):\n",
    "        self.length = l\n",
    "        self.width = w\n",
    "        self.x = x\n",
    "        self.y = y\n",
    "\n",
    "    def getlength(self):\n",
    "        return self.length\n",
    "\n",
    "    def getwidth(self):\n",
    "        return self.width\n",
    "\n",
    "    def getx(self):\n",
    "        return self.x\n",
    "\n",
    "    def gety(self):\n",
    "        return self.y\n",
    "\n",
    "    def area(self):\n",
    "        return self.length * self.width\n",
    "\n",
    "    def perimeter(self):\n",
    "        return 2 * (self.length + self.width)"
   ]
  },
  {
   "cell_type": "code",
   "execution_count": 64,
   "metadata": {},
   "outputs": [
    {
     "name": "stdout",
     "output_type": "stream",
     "text": [
      "3\n",
      "4\n",
      "5\n",
      "6\n",
      "12\n",
      "14\n"
     ]
    }
   ],
   "source": [
    "r = rectangle(3,4,5,6)\n",
    "print(r.getlength())\n",
    "print(r.getwidth())\n",
    "print(r.getx())\n",
    "print(r.gety())\n",
    "print(r.area())\n",
    "print(r.perimeter())"
   ]
  },
  {
   "cell_type": "markdown",
   "metadata": {},
   "source": [
    "4. Implement a class to represent a circle, holding the radius and $x$ and $y$ coordinates of center of the object. Implement functions that compute the area and perimeter of the rectangle. Make all data members private and privide accessors to retrieve values of data members. "
   ]
  },
  {
   "cell_type": "code",
   "execution_count": 68,
   "metadata": {},
   "outputs": [],
   "source": [
    "class circle:\n",
    "    pi = 3.1415\n",
    "    def __init__(self,r,x,y):\n",
    "        self.radius = r\n",
    "        self.x = x\n",
    "        self.y = y\n",
    "\n",
    "    def getradius(self):\n",
    "        return self.radius\n",
    "\n",
    "    def getx(self):\n",
    "        return self.x\n",
    "\n",
    "    def gety(self):\n",
    "        return self.y\n",
    "\n",
    "    def area(self):\n",
    "        return circle.pi * self.radius ** 2\n",
    "\n",
    "    def circumference(self):\n",
    "        return 2 * circle.pi * self.radius"
   ]
  },
  {
   "cell_type": "code",
   "execution_count": 71,
   "metadata": {},
   "outputs": [
    {
     "name": "stdout",
     "output_type": "stream",
     "text": [
      "4\n",
      "2\n",
      "5\n",
      "50.264\n",
      "25.132\n"
     ]
    }
   ],
   "source": [
    "cir = circle(4,2,5)\n",
    "print(cir.getradius())\n",
    "print(cir.getx())\n",
    "print(cir.gety())\n",
    "print(cir.area())\n",
    "print(cir.circumference())"
   ]
  },
  {
   "cell_type": "markdown",
   "metadata": {},
   "source": [
    "5. Implement a common base class for the classes implemented in 3 and 4 above which implements all common methods as not implemented functions (virtual). Re-implement your regtangle and circule classes to inherit from the base class and overload the functions accordingly. "
   ]
  },
  {
   "cell_type": "code",
   "execution_count": 126,
   "metadata": {},
   "outputs": [],
   "source": [
    "from math import sin, cos\n",
    "\n",
    "class shapes:\n",
    "    def getname(self):\n",
    "        raise NotImplementedError()\n",
    "    def getx(self):\n",
    "        raise NotImplementedError()\n",
    "    def gety(self):\n",
    "        raise NotImplementedError()\n",
    "    def area(self):\n",
    "        raise NotImplementedError()\n",
    "    def perimeter(self):\n",
    "        raise NotImplementedError()\n",
    "    def getpoints(self):\n",
    "        raise NotImplementedError()\n",
    "    def insideshape(self):\n",
    "        raise NotImplementedError()\n",
    "    def overlap(self, shape2):\n",
    "        raise NotImplementedError()\n",
    "\n",
    "class rectangle2(shapes):\n",
    "    def __init__(self,l,w,x,y):\n",
    "        self.length = l\n",
    "        self.width = w\n",
    "        self.x = x\n",
    "        self.y = y\n",
    "\n",
    "    def getlength(self):\n",
    "        return self.length\n",
    "\n",
    "    def getwidth(self):\n",
    "        return self.width\n",
    "\n",
    "    def getx(self):\n",
    "        return self.x\n",
    "\n",
    "    def gety(self):\n",
    "        return self.y\n",
    "\n",
    "    def area(self):\n",
    "        return self.length * self.width\n",
    "\n",
    "    def perimeter(self):\n",
    "        return 2 * (self.length + self.width)\n",
    "\n",
    "    def getname(self):\n",
    "        return \"Rectangle\"\n",
    "\n",
    "    def getpoints(self):\n",
    "        corners = [(self.x, self.y),\n",
    "                   (self.x + self.length, self.y),\n",
    "                   (self.x + self.length, self.y + self.width),\n",
    "                   (self.x, self.y + self.width)]\n",
    "        points = []\n",
    "        for i in range(len(corners)):\n",
    "            start = corners[i]\n",
    "            finish = corners[(i + 1) % 4]\n",
    "            for j in range(4):\n",
    "                k = j / 4\n",
    "                n = round(start[0] + (finish[0] - start[0]) * k,1)\n",
    "                m = round(start[1] + (finish[1] - start[1]) * k,1)\n",
    "                points.append((n,m))\n",
    "        return points[:16]\n",
    "\n",
    "    def insideshape(self,x,y):\n",
    "        return (self.x <= x <= self.x + self.length and self.y <= y <= self.y + self.width)\n",
    "\n",
    "    def overlap(self,shape2):\n",
    "        for point in self.getpoints():\n",
    "            if shape2.insideshape(*point):\n",
    "                return True\n",
    "        for point in shape2.getpoints():\n",
    "            if self.insideshape(*point):\n",
    "                return True\n",
    "        return False\n",
    "\n",
    "\n",
    "class circle2(shapes):\n",
    "    pi = 3.1415\n",
    "    def __init__(self,r,x,y):\n",
    "        self.radius = r\n",
    "        self.x = x\n",
    "        self.y = y\n",
    "\n",
    "    def getradius(self):\n",
    "        return self.radius\n",
    "\n",
    "    def getx(self):\n",
    "        return self.x\n",
    "\n",
    "    def gety(self):\n",
    "        return self.y\n",
    "\n",
    "    def area(self):\n",
    "        return circle.pi * self.radius ** 2\n",
    "\n",
    "    def perimeter(self):\n",
    "        return 2 * circle.pi * self.radius\n",
    "\n",
    "    def getname(self):\n",
    "        return \"Circle\"\n",
    "\n",
    "    def getpoints(self):\n",
    "        points = []\n",
    "        for i in range(16):\n",
    "            a = 2 * circle.pi * i / 16\n",
    "            n = round(self.x + self.radius * cos(a),1)\n",
    "            m = round(self.y + self.radius * sin(a),1)\n",
    "            points.append((n,m))\n",
    "        return points[:16]\n",
    "        \n",
    "    def insideshape(self,x,y):\n",
    "        n = x - self.x\n",
    "        m = y - self.y\n",
    "        return n * n + m * m <= self.radius ** 2\n",
    "\n",
    "    def overlap(self,shape2):\n",
    "        for point in self.getpoints():\n",
    "            if shape2.insideshape(*point):\n",
    "                return True\n",
    "        for point in shape2.getpoints():\n",
    "            if self.insideshape(*point):\n",
    "                return True\n",
    "        return False"
   ]
  },
  {
   "cell_type": "code",
   "execution_count": 81,
   "metadata": {},
   "outputs": [
    {
     "name": "stdout",
     "output_type": "stream",
     "text": [
      "Rectangle\n",
      "18\n",
      "Circle\n",
      "81.679\n"
     ]
    }
   ],
   "source": [
    "r2 = rectangle2(3,6,4,2)\n",
    "print(r2.getname())\n",
    "print(r2.area())\n",
    "cir2 = circle2(13,2,4)\n",
    "print(cir2.getname())\n",
    "print(cir2.perimeter())"
   ]
  },
  {
   "cell_type": "markdown",
   "metadata": {},
   "source": [
    "6. Implement a triangle class analogous to the rectangle and circle in question 5."
   ]
  },
  {
   "cell_type": "code",
   "execution_count": 127,
   "metadata": {},
   "outputs": [],
   "source": [
    "class triangle(shapes):\n",
    "    def __init__(self,b,h,s1,s2,s3,x,y):\n",
    "        self.base = b\n",
    "        self.height = h\n",
    "        self.side1 = s1\n",
    "        self.side2 = s2\n",
    "        self.side3 = s3\n",
    "        self.x = x\n",
    "        self.y = y\n",
    "\n",
    "    def getbase(self):\n",
    "        return self.base\n",
    "\n",
    "    def getheight(self):\n",
    "        return self.height\n",
    "\n",
    "    def getsides(self):\n",
    "        return (self.side1, self.side2, self.side3)\n",
    "\n",
    "    def getx(self):\n",
    "        return self.x\n",
    "\n",
    "    def gety(self):\n",
    "        return self.y\n",
    "\n",
    "    def area(self):\n",
    "        return 0.5 * self.base * self.height\n",
    "\n",
    "    def perimeter(self):\n",
    "        return self.side1 + self.side2 + self.side3\n",
    "\n",
    "    def getname(self):\n",
    "        return \"Triangle\"\n",
    "\n",
    "    def getpoints(self):\n",
    "        a = (self.x, self.y)\n",
    "        b = (self.x + self.base, self.y)\n",
    "        c = (self.x, self.y + self.height)\n",
    "        v = [(a,b),(b,c),(c,a)]\n",
    "        points = []\n",
    "        for start,finish in v:\n",
    "            for i in range(5):\n",
    "                k = i / 5\n",
    "                n = round(start[0] + (finish[0] - start[0]) * k,1)\n",
    "                m = round(start[1] + (finish[1] - start[1]) * k,1)\n",
    "                points.append((n,m))\n",
    "        return points[:16]\n",
    "\n",
    "    def insideshape(self,x,y):\n",
    "        return (self.x <= x <= self.x + self.base and self.y <= y <= self.y + self.height)\n",
    "\n",
    "    def overlap(self,shape2):\n",
    "        for point in self.getpoints():\n",
    "            if shape2.insideshape(*point):\n",
    "                return True\n",
    "        for point in shape2.getpoints():\n",
    "            if self.insideshape(*point):\n",
    "                return True\n",
    "        return False"
   ]
  },
  {
   "cell_type": "code",
   "execution_count": 87,
   "metadata": {},
   "outputs": [
    {
     "name": "stdout",
     "output_type": "stream",
     "text": [
      "6.0\n",
      "12\n"
     ]
    }
   ],
   "source": [
    "t1 = triangle(3,4,3,4,5,6,8)\n",
    "print(t1.area())\n",
    "print(t1.perimeter())"
   ]
  },
  {
   "cell_type": "markdown",
   "metadata": {},
   "source": [
    "7. Add a function to the object classes, including the base, that returns a list of up to 16 pairs of  $x$ and $y$ points on the parameter of the object. "
   ]
  },
  {
   "cell_type": "code",
   "execution_count": 113,
   "metadata": {},
   "outputs": [
    {
     "name": "stdout",
     "output_type": "stream",
     "text": [
      "Here are 16 points along the rectangle: [(4.0, 2.0), (4.8, 2.0), (5.5, 2.0), (6.2, 2.0), (7.0, 2.0), (7.0, 3.5), (7.0, 5.0), (7.0, 6.5), (7.0, 8.0), (6.2, 8.0), (5.5, 8.0), (4.8, 8.0), (4.0, 8.0), (4.0, 6.5), (4.0, 5.0), (4.0, 3.5)]\n",
      "Here are 16 points along the circle: [(6.0, 3.0), (5.6, 4.9), (4.5, 6.5), (2.9, 7.6), (1.0, 8.0), (-0.9, 7.6), (-2.5, 6.5), (-3.6, 4.9), (-4.0, 3.0), (-3.6, 1.1), (-2.5, -0.5), (-0.9, -1.6), (1.0, -2.0), (2.9, -1.6), (4.5, -0.5), (5.6, 1.1)]\n",
      "Here are 16 points along the triangle: [(1.0, 2.0), (1.6, 2.0), (2.2, 2.0), (2.8, 2.0), (3.4, 2.0), (4.0, 2.0), (3.4, 2.8), (2.8, 3.6), (2.2, 4.4), (1.6, 5.2), (1.0, 6.0), (1.0, 5.2), (1.0, 4.4), (1.0, 3.6), (1.0, 2.8)]\n"
     ]
    }
   ],
   "source": [
    "## The above classes were ammended to add the function instead of copying and pasting the class in this box.\n",
    "r3 = rectangle2(3,6,4,2)\n",
    "print(\"Here are 16 points along the rectangle:\",r3.getpoints())\n",
    "cir3 = circle2(5,1,3)\n",
    "print(\"Here are 16 points along the circle:\",cir3.getpoints())\n",
    "t2 = triangle(3,4,3,4,5,1,2)\n",
    "print(\"Here are 16 points along the triangle:\",t2.getpoints())"
   ]
  },
  {
   "cell_type": "markdown",
   "metadata": {},
   "source": [
    "8. Add a function to the object classes, including the base, that tests if a given set of $x$ and $y$ coordinates are inside of the object. You'll have to think through how to determine if a set of coordinates are inside an object for each object type."
   ]
  },
  {
   "cell_type": "code",
   "execution_count": 123,
   "metadata": {},
   "outputs": [
    {
     "name": "stdout",
     "output_type": "stream",
     "text": [
      "True\n",
      "True\n",
      "False\n"
     ]
    }
   ],
   "source": [
    "r4 = rectangle2(3,6,4,2)\n",
    "print(r4.insideshape(6,6))\n",
    "cir4 = circle2(5,1,3)\n",
    "print(cir4.insideshape(3,4))\n",
    "t3 = triangle(3,4,3,4,5,1,2)\n",
    "print(t3.insideshape(2,15))"
   ]
  },
  {
   "cell_type": "markdown",
   "metadata": {},
   "source": [
    "9. Add a function in the base class of the object classes that returns true/false testing that the object overlaps with another object."
   ]
  },
  {
   "cell_type": "code",
   "execution_count": 131,
   "metadata": {},
   "outputs": [
    {
     "name": "stdout",
     "output_type": "stream",
     "text": [
      "Shape 0 overlaps with shape 1\n",
      "Shape 1 overlaps with shape 2\n"
     ]
    }
   ],
   "source": [
    "shapeslist = [\n",
    "    rectangle2(2,4,1,1), \n",
    "    circle2(4,3,5),\n",
    "    triangle(3,4,3,4,5,4,4)]\n",
    "\n",
    "for i in range(len(shapeslist)):\n",
    "    for j in range(i + 1, len(shapeslist)):\n",
    "        if shapeslist[i].overlap(shapeslist[j]):\n",
    "            print(f\"Shape {i} overlaps with shape {j}\")"
   ]
  },
  {
   "cell_type": "markdown",
   "metadata": {},
   "source": [
    "10. Copy the `Canvas` class from lecture to in a python file creating a `paint` module. Copy your classes from above into the module and implement paint functions. Implement a `CompoundShape` class. Create a simple drawing demonstrating that all of your classes are working."
   ]
  },
  {
   "cell_type": "code",
   "execution_count": null,
   "metadata": {},
   "outputs": [],
   "source": []
  },
  {
   "cell_type": "markdown",
   "metadata": {},
   "source": [
    "11. Create a `RasterDrawing` class. Demonstrate that you can create a drawing made of several shapes, paint the drawing, modify the drawing, and paint it again. "
   ]
  },
  {
   "cell_type": "code",
   "execution_count": null,
   "metadata": {},
   "outputs": [],
   "source": []
  },
  {
   "cell_type": "markdown",
   "metadata": {},
   "source": [
    "12. Implement the ability to load/save raster drawings and demonstate that your method works. One way to implement this ability:\n",
    "\n",
    "   * Overload `__repr__` functions of all objects to return strings of the python code that would construct the object.\n",
    "   \n",
    "   * In the save method of raster drawing class, store the representations into the file.\n",
    "   * Write a loader function that reads the file and uses `eval` to instantiate the object.\n",
    "\n",
    "For example:"
   ]
  },
  {
   "cell_type": "code",
   "execution_count": 1,
   "metadata": {},
   "outputs": [],
   "source": [
    "class foo:\n",
    "    def __init__(self,a,b=None):\n",
    "        self.a=a\n",
    "        self.b=b\n",
    "        \n",
    "    def __repr__(self):\n",
    "        return \"foo(\"+repr(self.a)+\",\"+repr(self.b)+\")\"\n",
    "    \n",
    "    def save(self,filename):\n",
    "        f=open(filename,\"w\")\n",
    "        f.write(self.__repr__())\n",
    "        f.close()\n",
    "        \n",
    "   \n",
    "def foo_loader(filename):\n",
    "    f=open(filename,\"r\")\n",
    "    tmp=eval(f.read())\n",
    "    f.close()\n",
    "    return tmp\n"
   ]
  },
  {
   "cell_type": "code",
   "execution_count": 2,
   "metadata": {},
   "outputs": [
    {
     "name": "stdout",
     "output_type": "stream",
     "text": [
      "foo(1,'hello')\n"
     ]
    }
   ],
   "source": [
    "# Test\n",
    "print(repr(foo(1,\"hello\")))"
   ]
  },
  {
   "cell_type": "code",
   "execution_count": 3,
   "metadata": {},
   "outputs": [],
   "source": [
    "# Create an object and save it\n",
    "ff=foo(1,\"hello\")\n",
    "ff.save(\"Test.foo\")"
   ]
  },
  {
   "cell_type": "code",
   "execution_count": 4,
   "metadata": {},
   "outputs": [
    {
     "name": "stdout",
     "output_type": "stream",
     "text": [
      "foo(1,'hello')"
     ]
    }
   ],
   "source": [
    "# Check contents of the saved file\n",
    "!cat Test.foo"
   ]
  },
  {
   "cell_type": "code",
   "execution_count": 5,
   "metadata": {},
   "outputs": [
    {
     "data": {
      "text/plain": [
       "foo(1,'hello')"
      ]
     },
     "execution_count": 5,
     "metadata": {},
     "output_type": "execute_result"
    }
   ],
   "source": [
    "# Load the object\n",
    "ff_reloaded=foo_loader(\"Test.foo\")\n",
    "ff_reloaded"
   ]
  }
 ],
 "metadata": {
  "kernelspec": {
   "display_name": "Python 3 (ipykernel)",
   "language": "python",
   "name": "python3"
  },
  "language_info": {
   "codemirror_mode": {
    "name": "ipython",
    "version": 3
   },
   "file_extension": ".py",
   "mimetype": "text/x-python",
   "name": "python",
   "nbconvert_exporter": "python",
   "pygments_lexer": "ipython3",
   "version": "3.10.12"
  }
 },
 "nbformat": 4,
 "nbformat_minor": 4
}
